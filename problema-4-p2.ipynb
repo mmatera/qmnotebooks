{
 "cells": [
  {
   "cell_type": "markdown",
   "metadata": {},
   "source": [
    "# Problema 4\n",
    "\n",
    "La ecuación de Schrödinger para este potencial viene dada por\n",
    "\\begin{equation}\n",
    "-\\frac{\\hbar^2}{2 M} \\frac{\\partial^2}{\\partial x^2}\\psi(x)-\\frac{V_0}{\\cosh^2(x/a)}\\psi(x)=E \\psi(x)\n",
    "\\end{equation}\n",
    "\n",
    "Estamos buscando estados ligados, por lo que $E<\\frac{V_0}{\\cosh^2(x/a)}$ cuando $x\\rightarrow \\pm \\infty$. Luego, $E<0$.\n",
    "\n",
    "El primer paso para resolver la ecuación será **siempre** adimensionalizarla. Aquí, la escala de longitudes la fija $a$, de manera que remplazamos $x=a u$. Luego de unos pasos simples, obtenemos\n",
    "\n",
    "\n",
    "\\begin{equation}\n",
    "\\frac{\\partial^2}{\\partial u^2}\\phi(u)+\\frac{\\lambda^2}{\\cosh^2(u)}\\phi(u)-m^2 \\phi(u)=0\n",
    "\\end{equation}\n",
    "\n",
    "con\n",
    "$$\n",
    "\\psi(x)=\\sqrt{1/a}\\phi(x/a)\n",
    "$$\n",
    "\n",
    "$$\n",
    "\\lambda^2= \\frac{2 M V_0 a^2}{\\hbar^2}\n",
    "$$\n",
    "$$\n",
    "E= -m^2 \\frac{\\hbar^2}{2 M a^2}\n",
    "$$\n",
    "\n"
   ]
  },
  {
   "cell_type": "markdown",
   "metadata": {},
   "source": [
    "## Propiedades de los estados ligados"
   ]
  },
  {
   "cell_type": "markdown",
   "metadata": {},
   "source": [
    "Antes de seguir, notemos una serie de cosas básicas:\n",
    "\n",
    "* $m<\\lambda$, ya que la energía total no puede ser menor que el mínimo del potencial.\n",
    "* $\\phi(u)\\approx exp(-m |u|)$ cuando $u\\gg 1$\n",
    "* Si $m \\approx \\lambda  \\gg 1$, la $\\phi''(u)$ es negativa sólo en un intervalo pequeño en torno al origen. Dentro de ese intervalo, el potencial se comporta aproximadamente como un potencial armónico, y las funciones satiafacen ahí\n",
    "\\begin{equation}\n",
    "-\\frac{\\partial^2}{\\partial u^2}\\phi(u)+\\frac{\\lambda^2 u^2}{2}\\phi(u)\\approx(m^2-\\lambda^2) \\phi(u)\n",
    "\\end{equation}\n",
    "que es la ecuación de un oscilador armónico, con $\\hbar=m=1$ y $k=\\lambda^2$. Esperamos que en este régimen\n",
    "$$\n",
    "m \\approx \\lambda\\,(n+1/2) -\\lambda^2\n",
    "$$\n",
    "para $n$ números enteros no negativos. Naturalmente, $n$ no puede superar a $\\lambda$, ya que en ese caso, la hipótesis que usamos para aproximar ya no es válida.\n",
    "\n",
    "\n",
    "Resolvamos ahora el problema en forma exacta."
   ]
  },
  {
   "cell_type": "markdown",
   "metadata": {},
   "source": [
    "## Solución exacta\n",
    "\n",
    "Para esto, notamos primero que \n",
    "$$\n",
    "\\frac{1}{\\cosh^2(u)}=\\frac{\\partial}{\\partial u}\\tanh(u)=1-\\tanh(u)^2\n",
    "$$\n",
    "\n",
    "como además, $\\tanh(u)$ es una función monótona en todo $\\mathbb{R}$, vamos a proponer el cambio de variables\n",
    "\\begin{eqnarray}\n",
    "\\xi&=&\\tanh(u)\\\\\n",
    "\\phi(u)&=&\\varphi(\\tanh(u))\\\\\n",
    "\\frac{\\partial}{\\partial u}&=&\\frac{\\partial \\xi}{\\partial u}\\frac{\\partial }{\\partial \\xi}=\n",
    "(1-\\xi^2)\\frac{\\partial }{\\partial \\xi}\n",
    "\\end{eqnarray}\n",
    "\n",
    "\n",
    "de manera que $\\varphi(\\xi)$ se anule para $\\xi=\\tanh(\\pm \\infty)\\rightarrow \\pm 1$.\n",
    "\n",
    "Con este cambio de variables, la ecuación diferencial toma esta forma\n",
    "\n",
    "\\begin{equation}\n",
    "(1-\\xi^2)\\frac{\\partial}{\\partial \\xi} (1-\\xi^2)\\frac{\\partial}{\\partial \\xi}\\varphi(\\xi)+\\lambda^2 (1-\\xi^2)\\varphi(\\xi)-m^2 \\varphi(\\xi)=0\n",
    "\\end{equation}\n",
    "\n",
    "o, introduciendo el parámetro auxiliar $s=(\\sqrt{\\lambda^2+1/4}-\\frac{1}{2})$ y dividiendo por $(1-\\xi^2)$ \n",
    "\n",
    "\n",
    "\\begin{equation}\n",
    "\\frac{\\partial}{\\partial \\xi} (1-\\xi^2)\\frac{\\partial}{\\partial \\xi}\\varphi(\\xi)+s(s+1)\\varphi(\\xi)-\\frac{m^2}{1-\\xi^2} \\varphi(\\xi)=0\n",
    "\\end{equation}\n",
    "\n",
    "que tiene la forma de una ecuación asociada de Legendre. \n",
    "\n",
    "\n",
    "## Resolución de la ecuación asociada de Legendre\n",
    "\n",
    "\n",
    "\n",
    "\n",
    "\n",
    "\n"
   ]
  },
  {
   "cell_type": "markdown",
   "metadata": {},
   "source": [
    "Notemos sin embargo que a diferencia del caso que estudiamos para construir los armónicos esféricos, aquí $s$ es un parámetro fijo (en general, un número real), mientras que $m$ es el parámetro libre. Para encontrar las soluciones que cumplan con la condición $\\varphi(\\pm1)=0$, vamos a proceder como en ese caso, proponiendo\n",
    "$$\n",
    "\\varphi(\\xi)=(1-\\xi^2)^{\\alpha}\\sum_{k=0}^{\\infty} a_k \\xi^{k}\n",
    "$$\n"
   ]
  },
  {
   "cell_type": "markdown",
   "metadata": {},
   "source": [
    "Remplazando esta expresión en la ecuación, y teniendo en cuenta que\n",
    "\n",
    "$$\n",
    "\\varphi'(\\xi)=\\frac{\\partial}{\\partial \\xi} \\varphi(\\xi)=-\\frac{2 \\alpha \\xi}{1-\\xi^2} \\varphi(\\xi) + (1-\\xi^2)^{\\alpha}\\sum_{k=0}^{\\infty}  (k+1)a_{k+1} \\xi^{k}\n",
    "$$\n",
    "\n",
    "\n",
    "\\begin{eqnarray}\n",
    "\\frac{\\partial}{\\partial \\xi}(1-\\xi^2)\n",
    "\\varphi'(\\xi)&=&\n",
    "-2 \\alpha \\varphi(\\xi)-\n",
    "2 \\alpha \\xi \\varphi'(\\xi)  \n",
    "-2\\xi(\\alpha+1) (1-\\xi^2)^{\\alpha}\\sum_{k=0}^{\\infty}  (k+1)a_{k+1} \\xi^{k}+\n",
    "(1-\\xi^2)^{\\alpha}\\sum_{k=0}^{\\infty}  (k+1)(k+2)a_{k+2} (1-\\xi^2)\\xi^{k}\\\\\n",
    "&=&\n",
    "\\frac{(2 \\alpha \\xi)^2}{1-\\xi^2} \\varphi(\\xi)  + \n",
    "(1-\\xi^2)^{\\alpha} \\Delta(\\xi)\\\\\n",
    "\\Delta(\\xi)&=&- 2 \\alpha \\sum_{k=0}^{\\infty}a_k \\xi^k\n",
    "-2(2\\alpha+1) \\sum_{k=1}^{\\infty}  k a_{k} \\xi^{k} + \\sum_{k=0}^{\\infty}  (k+1)(k+2)a_{k+2}\\xi^{k}-\\sum_{k=2}^{\\infty}  (k-1) k a_{k}\\xi^{k}\\\\\n",
    "&=&\\sum_{k=0}^{\\infty}\\left( (-2\\alpha-(4\\alpha +k+1)k   ) a_k + (k+2)(k+1)a_{k+2}\\right)\\xi^{k}\n",
    "\\end{eqnarray}\n",
    "\n"
   ]
  },
  {
   "cell_type": "markdown",
   "metadata": {},
   "source": [
    "Poniendo todo junto,\n",
    "\\begin{equation}\n",
    "(1-\\xi^2)^\\alpha \\left(\\frac{(2\\alpha)^2 \\xi^2-m^2}{1-\\xi^2}\\sum_{k=0}^{\\infty} a_k \\xi^k +  \\sum_{k=0}^{\\infty}(s+1)s a_k \\xi^k +\\Delta(\\xi)\\right)=0\n",
    "\\end{equation}\n",
    "Si elegimos $\\alpha=m/2$\n",
    "\n",
    "\\begin{equation}\n",
    "(1-\\xi^2)^{m/2}\\left(\\sum_{k=0}^{\\infty}((s+1)s-m^2) a_k \\xi^k +\\Delta(\\xi)\\right)=0\n",
    "\\end{equation}\n",
    "\n",
    "Como el primer factor no se anula en el intervalo $(-1,1)$, el segundo factor tiene que hacerlo. Luego, el coeficiente de cada potencial tiene que anularse idénticamente:"
   ]
  },
  {
   "cell_type": "markdown",
   "metadata": {},
   "source": [
    "$$\n",
    " (s(s+1)-m^2 -m-(2 m +k+1)k   ) a_k + (k+2)(k+1)a_{k+2}=0\n",
    "$$\n",
    "de donde se sigue la relación de recurrencia\n",
    "$$\n",
    "a_{k+2}=\\frac{m (m+1)+(2 m +k+1)k-s(s+1)   }{(k+1)(k+2)}a_k=\n",
    "-\\frac{(k+m-s)(k+m+s+1)}{(k+1)(k+2)}a_k\n",
    "$$"
   ]
  },
  {
   "cell_type": "markdown",
   "metadata": {
    "ExecuteTime": {
     "end_time": "2020-09-29T18:14:54.996045Z",
     "start_time": "2020-09-29T18:14:54.822411Z"
    }
   },
   "source": [
    "de manera que una vez que fijamos $a_0$ y $a_1$, el resto de los coeficientes quedan automáticamente determinados. Como el potencial es simétrico ante reflexiones ($\\xi\\leftrightarrow -\\xi$) podemos trabajar con soliciones que tengan esa simetría, de manera de que las soluciones bien involucran sólo términos con $k$ par ($a_{2k+1}=0$) o impares ($a_{0}=a_{2 k}=0$).\n",
    "\n",
    "Consideramos entonces dos posibilidades: o bien $a_k\\neq 0$ para todo $k$ par (impar) o bien para algún $n$, $a_{k}=0$ para todo $k>n$.\n",
    "\n",
    "En el primer caso, obtenemos una serie cuyos coeficientes tienden a un valor de módulo constante:\n",
    "\n",
    "$$\n",
    "\\lim_{k\\rightarrow \\infty} |a_k| \\approx a_{\\infty}>1\n",
    "$$\n",
    "luego, $\\varphi(\\xi)\\approx \\frac{1-\\xi^2}{1+a_{\\infty}\\xi}$ no tiene un comportamiento regular en el intervalo. Por lo tanto, la serie tiene que cortarse para algún $k=n$. Esto ocurre si\n",
    "$m=s-n$ o $m=-s-1-n$. Sin embargo, recordemos que como $\\alpha=m/2$ es el exponente del prefactor $(1-\\xi^2)^\\alpha$ $m\\geq 0$, lo que implica que\n",
    "$$\n",
    "n,m\\leq s\n",
    "$$\n",
    "\n",
    "Desandando el camino, la energía del $n-$esimo nivel toma la forma\n",
    "\n",
    "$$\n",
    "E_n=-\\frac{\\hbar^2}{2 m a^2} (s-n)^2=\n",
    "-\\frac{\\hbar^2}{2 m a^2} ((\\sqrt{\\frac{2 M V_0 a^2}{\\hbar^2}+1/4}-\\frac{1}{2}) -n)^2\n",
    "$$\n",
    "\n",
    "y la función  de onda correspondiente (con unidades)\n",
    "\n",
    "$$\n",
    "\\psi_n(x)=\\frac{N_n}{\\sqrt{a}}P_s^{s-n}({\\rm arctanh}(x/a))\n",
    "$$\n",
    "con \n",
    "$$P_s^{s-n}(\\xi)=(1-\\xi^2)^{\\frac{s-n}{2}}\\sum_{k=0}^{n/2}a_{2 k}\\xi^{2k}$$ para $n$ par y\n",
    "$$P_s^{s-n}(\\xi)=(1-\\xi^2)^{\\frac{s-n}{2}}\\sum_{k=0}^{(n-1)/2}a_{2 k+1}\\xi^{2 k+1}$$ para $n$ impar.\n",
    "y $N_n$ las constantes de normalización correspondientes.\n",
    "\n",
    "\n",
    "\n",
    "\n",
    "\n",
    "\n",
    "\n",
    "\n"
   ]
  },
  {
   "cell_type": "code",
   "execution_count": 6,
   "metadata": {
    "ExecuteTime": {
     "end_time": "2020-10-01T11:14:08.045300Z",
     "start_time": "2020-10-01T11:14:07.942357Z"
    },
    "scrolled": true
   },
   "outputs": [],
   "source": [
    "%matplotlib inline\n",
    "\n",
    "import numpy as np\n",
    "import matplotlib as mpl\n",
    "import matplotlib.pyplot as plt\n",
    "\n",
    "\n",
    "\n",
    "la=10.\n",
    "s = np.sqrt(la**2+1/4)-1/2\n",
    "\n",
    "#s=5.\n",
    "\n",
    "\n",
    "def associated_legendre(s,n,x):    \n",
    "    def coeffs_al(s,n):\n",
    "        res = [1.]\n",
    "        if n % 2 == 0:\n",
    "            for k in range(int(n/2)):\n",
    "                a = (2*k+1)*(2*k+2)\n",
    "                a = -(n-2*k)*(2*k+2*s-n+1 )/a\n",
    "                res.append(a* res[-1])\n",
    "        else:\n",
    "            for k in range(int(n/2)):\n",
    "                a = (2*k+2)*(2*k+3)\n",
    "                a = -(n-2*k-1)*(2*k+2*s-n+2 )/a\n",
    "                res.append(a* res[-1])\n",
    "        res = np.array(res)\n",
    "        # res = res/sum(res)\n",
    "        return res\n",
    "    \n",
    "    coeffs = coeffs_al(s,n)\n",
    "    coeffs = coeffs[1:]\n",
    "    xssq = x*x\n",
    "    curr_pow = xssq\n",
    "    if type(x) in (list, tuple, np.ndarray):\n",
    "        res = np.ones(len(x))\n",
    "    else:\n",
    "        res = 1.\n",
    "        \n",
    "    for a in coeffs:\n",
    "        res = res + a * curr_pow\n",
    "        curr_pow = curr_pow* xssq\n",
    "        \n",
    "    if n % 2 == 1:\n",
    "        res = res * x\n",
    "\n",
    "    res = res * (1-xssq)**(.5*(s-n))\n",
    "    return res\n",
    "        \n",
    "\n",
    "\n",
    "\n",
    "xs=np.linspace(-5,5,500)\n",
    "plt.plot(xs,-la**2/np.cosh(xs)**2)\n",
    "for n in range(int(la+1)):\n",
    "    if s-n<0:\n",
    "        continue\n",
    "    en = -(s-n)**2\n",
    "    plt.plot([-5,5],[en,en])\n",
    "    psi = associated_legendre(s,n,np.tanh(xs))\n",
    "    psi = s*.3*psi/max(abs(psi))\n",
    "    plt.plot(xs,psi+en)\n",
    "\n",
    "\n"
   ]
  },
  {
   "cell_type": "code",
   "execution_count": null,
   "metadata": {},
   "outputs": [],
   "source": []
  }
 ],
 "metadata": {
  "kernelspec": {
   "display_name": "Python 3",
   "language": "python",
   "name": "python3"
  },
  "language_info": {
   "codemirror_mode": {
    "name": "ipython",
    "version": 3
   },
   "file_extension": ".py",
   "mimetype": "text/x-python",
   "name": "python",
   "nbconvert_exporter": "python",
   "pygments_lexer": "ipython3",
   "version": "3.7.8"
  },
  "latex_envs": {
   "LaTeX_envs_menu_present": true,
   "autoclose": false,
   "autocomplete": false,
   "bibliofile": "biblio.bib",
   "cite_by": "apalike",
   "current_citInitial": 1,
   "eqLabelWithNumbers": true,
   "eqNumInitial": 1,
   "hotkeys": {
    "equation": "Ctrl-E",
    "itemize": "Ctrl-I"
   },
   "labels_anchors": false,
   "latex_user_defs": false,
   "report_style_numbering": false,
   "user_envs_cfg": false
  },
  "toc": {
   "base_numbering": 1,
   "nav_menu": {},
   "number_sections": true,
   "sideBar": true,
   "skip_h1_title": false,
   "title_cell": "Table of Contents",
   "title_sidebar": "Contents",
   "toc_cell": false,
   "toc_position": {},
   "toc_section_display": true,
   "toc_window_display": false
  },
  "varInspector": {
   "cols": {
    "lenName": 16,
    "lenType": 16,
    "lenVar": 40
   },
   "kernels_config": {
    "python": {
     "delete_cmd_postfix": "",
     "delete_cmd_prefix": "del ",
     "library": "var_list.py",
     "varRefreshCmd": "print(var_dic_list())"
    },
    "r": {
     "delete_cmd_postfix": ") ",
     "delete_cmd_prefix": "rm(",
     "library": "var_list.r",
     "varRefreshCmd": "cat(var_dic_list()) "
    }
   },
   "types_to_exclude": [
    "module",
    "function",
    "builtin_function_or_method",
    "instance",
    "_Feature"
   ],
   "window_display": false
  }
 },
 "nbformat": 4,
 "nbformat_minor": 4
}
