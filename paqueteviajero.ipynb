{
 "cells": [
  {
   "cell_type": "markdown",
   "metadata": {},
   "source": [
    "# Discretizando la ecuación de Schrödinger\n",
    "**Autor: Juan Mauricio Matera (Facultad de Ciencias Exactas, UNLP)** \n",
    "\n",
    "12 de agosto de 2020\n"
   ]
  },
  {
   "cell_type": "markdown",
   "metadata": {},
   "source": [
    "La ecuación de Schrödinger dependiente del tiempo en una dimensión\n",
    "\n",
    "$$\n",
    "{\\bf i}\\hbar \\frac{d}{dt}\\psi(x,t) = -\\frac{\\hbar^2}{2m}\\nabla^2 \\psi(x,t) + V(x) \\psi(x,t)\n",
    "$$\n",
    "define $\\psi(x,t)$ a partir del valor inicial $\\psi(x,t_0)$. Si bien en algunos casos especiales existen soluciones analíticas, aquí analizaremos sus soluciones numéricas vía discretización. Para eso, un primer paso\n",
    "es adimensionalizar la ecuación:\n",
    "\n",
    "$$\n",
    "\\frac{2 m (\\Delta x)^2}{\\hbar}\\frac{d}{dt}\\psi(x,t) = {\\bf i}(\\Delta x)^2\\nabla^2 \\psi(x,t) + (\\frac{2 m (\\Delta x)^2}{\\hbar} V(x)) \\psi(x,t)\n",
    "$$\n",
    "\n",
    "ó\n",
    "$$\n",
    "\\frac{d}{d \\tilde{t}}\\tilde{\\psi}(\\tilde{x},\\tilde{t}) = \n",
    "{\\bf i}\\nabla^2 \\tilde{\\psi}(\\tilde{x},\\tilde{t}) + \\tilde{V}(\\tilde{x})\\tilde{\\psi}(\\tilde{x},\\tilde{t})\n",
    "$$\n",
    "con\n",
    "\\begin{eqnarray}\n",
    "\\tilde{t}&=& \\frac{2 m (\\Delta x)^2}{\\hbar}t\\\\\n",
    "\\tilde{x}&=& x/\\Delta x\\\\\n",
    "\\tilde{V}(\\tilde{x})&=& \\frac{2 m \\Delta x^2}{\\hbar^2}V(\\tilde{x} \\Delta x)\\\\\n",
    "\\tilde{\\psi}(\\tilde{x},\\tilde{t})&=&\\psi(\\tilde{x}\\Delta x,\\tilde{t} \\Delta t)\n",
    "\\end{eqnarray}\n",
    "y $\\Delta x$ elegido lo suficientemente pequeño de manera que, durante la evolución,\n",
    "$$\n",
    "\\nabla^2\\psi(x,t) \\approx \\frac{\\psi(x+\\Delta x,t)+\\psi(x-\\Delta x,t)-2\\psi(x,t)}{(\\Delta x)^2}\n",
    "$$\n",
    " \n",
    "Luego, en lugar de trabajar en el continuo, podemos resolver el problema sobre un conjunto discreto de puntos separados por una distancia $\\Delta x$. Además, en lugar de trabajar sobre toda la recta real, vamos a considerar puntos dentro de un intervalo $(-L,L)$, y vamos a imponer condiciones de borde periódicas, de manera que \n",
    "$$\n",
    "\\psi(x+2L,t)=\\psi(x,t)\\;\\;\\mbox{y}\\;\\;V(x+2L)=V(x)\n",
    "$$\n",
    "de manera que el problema se reduce a estudiar la evolución temporal de la función de onda en $n=\\frac{2 L}{\\Delta x}$ puntos. \n",
    " \n",
    "Finalmente, asumiremos que el estado inicial es de la forma\n",
    "$$\n",
    "\\psi(x,t_0)=\\sqrt{\\rho(x,t_0)}e^{{\\bf i}k_0 x}\n",
    "$$\n",
    "con $\\rho(x,t_0)=\\frac{e^{-\\frac{(x-x_0)^2}{2 a^2}}}{\\sqrt{2\\pi a}}$ en el intervalo considerado, de forma que $-L<x_0<L$ y $a+|x_0|\\ll L$ y $k<\\frac{2\\pi}{\\Delta x}$.\n",
    "\n"
   ]
  },
  {
   "cell_type": "markdown",
   "metadata": {},
   "source": [
    "# Simulación"
   ]
  },
  {
   "cell_type": "code",
   "execution_count": 1,
   "metadata": {
    "ExecuteTime": {
     "end_time": "2020-08-12T17:55:51.267784Z",
     "start_time": "2020-08-12T17:55:50.680747Z"
    },
    "hide_input": true,
    "init_cell": true
   },
   "outputs": [
    {
     "data": {
      "application/vnd.jupyter.widget-view+json": {
       "model_id": "bb85a2cfaf964d4a8c382e494776d40f",
       "version_major": 2,
       "version_minor": 0
      },
      "text/plain": [
       "HBox(children=(VBox(children=(Label(value='Paquete'), FloatSlider(value=-150.0, description='centro del paquet…"
      ]
     },
     "metadata": {},
     "output_type": "display_data"
    }
   ],
   "source": [
    "import numpy as np\n",
    "import matplotlib.pyplot as plt\n",
    "import matplotlib.animation as animation\n",
    "from IPython.display import HTML\n",
    "import ipywidgets as widgets\n",
    "from IPython.display import display\n",
    "\n",
    "L = 200\n",
    "dx = 2.\n",
    "\n",
    "\n",
    "buttonrunsim=widgets.Button(description=\"Simulate\")\n",
    "outwdt = widgets.Output()\n",
    "\n",
    "centropaquete = widgets.FloatSlider(value=-3*L/4,min=-L,max=L,step=1,\n",
    "    description='centro del paquete',\n",
    "    ensure_option=True,\n",
    "    disabled=False)\n",
    "\n",
    "anchopaquete = widgets.FloatSlider(value=L/8,min=1,max=L,step=1,\n",
    "    description='ancho del paquete',\n",
    "    ensure_option=True,\n",
    "    disabled=False)\n",
    "\n",
    "valuek0 = widgets.FloatSlider(value=0,min=0,max=6.28/dx,step=.1,\n",
    "    description='k0',\n",
    "    ensure_option=True,\n",
    "    disabled=False)\n",
    "\n",
    "valueV0 = widgets.FloatSlider(value=0,min=-4,max=4,step=.1,\n",
    "    description='V0',\n",
    "    ensure_option=True,\n",
    "    disabled=False)\n",
    "\n",
    "potencial = widgets.Dropdown(options=[\"Cuadrado\",\"Rampa\",\"Cuadrático\",\"Gaussiano\"],\n",
    "                            description=\"Forma del Potencial\",\n",
    "                             ensure_option=True,\n",
    "                            disabled=False)\n",
    "\n",
    "valueW = widgets.FloatSlider(value=1.,min=1.,max=100.,step=.5,\n",
    "    description='Alcance potencial',\n",
    "    ensure_option=True,\n",
    "    disabled=False)\n",
    "\n",
    "\n",
    "items = [[widgets.Label(\"Paquete\"),centropaquete,anchopaquete,valuek0,\n",
    "          widgets.Label(\"Potencial\"),valueW,valueV0,potencial,buttonrunsim],[outwdt]]\n",
    "\n",
    "widgets.HBox([widgets.VBox(it) for it in items])\n",
    "\n",
    "\n"
   ]
  },
  {
   "cell_type": "markdown",
   "metadata": {
    "hide_input": true
   },
   "source": [
    "# Código que controla las simulaciones\n",
    "\n"
   ]
  },
  {
   "cell_type": "code",
   "execution_count": 2,
   "metadata": {
    "ExecuteTime": {
     "end_time": "2020-08-12T17:55:51.274582Z",
     "start_time": "2020-08-12T17:55:51.269730Z"
    },
    "hide_input": false,
    "init_cell": true
   },
   "outputs": [],
   "source": [
    "# Para fijar parámetros a mano\n",
    "\n",
    "\n",
    "#### Parámetros de la discretización\n",
    "dx = 2.\n",
    "dt = dx**2 * .1\n",
    "L = 200\n",
    "\n",
    "####  Estado inicial\n",
    "a = 20.\n",
    "x0 = -L/3\n",
    "k0 = 10./a\n",
    "\n",
    "#### Potencial\n",
    "U0= -1.\n",
    "w = 10.\n",
    "\n"
   ]
  },
  {
   "cell_type": "markdown",
   "metadata": {
    "ExecuteTime": {
     "end_time": "2020-08-12T16:07:09.782844Z",
     "start_time": "2020-08-12T16:07:09.778530Z"
    }
   },
   "source": [
    "## Rutinas que generan inicializan y generan la simulación"
   ]
  },
  {
   "cell_type": "code",
   "execution_count": 3,
   "metadata": {
    "ExecuteTime": {
     "end_time": "2020-08-12T17:55:51.313973Z",
     "start_time": "2020-08-12T17:55:51.276517Z"
    },
    "hide_input": false,
    "init_cell": true
   },
   "outputs": [],
   "source": [
    "\n",
    "############    Inicializar  #############\n",
    "\n",
    "\n",
    "\n",
    "def init_state(L=L,dx=dx,a=a,x0=x0,k0=k0):\n",
    "    global rho0\n",
    "    global psi\n",
    "    global xs\n",
    "    xs = np.linspace(-L,L,int(2*L/dx))\n",
    "    rho0 = np.array([np.exp(-(x-x0)**2/(2*a**2))  for x in xs]) \n",
    "    rho0[0] = 0\n",
    "    rho0[-1] = .5*rho0[-2]\n",
    "    rho0[1] = .5*rho0[2]\n",
    "    rho0 = rho0/sum(rho0)/dx\n",
    "    psi0 = rho0**.5 * np.exp(1j*k0*(xs-x0))\n",
    "    psi = psi0\n",
    "    return psi\n",
    "\n",
    "\n",
    "def evolve(psi,xs,pot):\n",
    "    global dt,dx\n",
    "    U = dx**2*pot(xs)\n",
    "    cc = dt/dx**2\n",
    "    deltapsi = ((1.+U)*psi-.5*(np.roll(psi,1)+np.roll(psi,-1))) \n",
    "    psi[:] = psi[:] - cc * 1j * deltapsi[:]\n",
    "    # Corrección a segundo orden \n",
    "    deltapsi = ((1.+U)*deltapsi-.5*(np.roll(deltapsi,1)+np.roll(deltapsi,-1))) \n",
    "    psi[:] = psi[:] - (.5*(cc)**2) * deltapsi[:]\n",
    "    psi[:] = psi[:] /np.sqrt(sum(np.abs(psi)**2))/dx**.5\n",
    "    return psi\n",
    "\n",
    "\n",
    "def Ugaussiano(xs):\n",
    "    return U0*np.exp(-xs**2/(.5*w**2))\n",
    "\n",
    "\n",
    "def Uescalon(xs):\n",
    "    return np.array([U0 if abs(x)<.5*w else 0 for x in xs])\n",
    "\n",
    "\n",
    "def Uarmonico(xs):\n",
    "    return np.array([U0*(1-4*(x/w)**2) if abs(x)<.5 * w else 0 for x in xs])\n",
    "\n",
    "\n",
    "def Urampadoble(xs):\n",
    "    return np.array([U0*(1-2*abs(x)/w) if abs(x)<.5 * w else 0 for x in xs])\n",
    "\n",
    "\n",
    "\n",
    "\n",
    "def make_animation_new(ts=50, progress=None):\n",
    "    global psi\n",
    "    global xs\n",
    "    global U0,k0,w,x0,a,U\n",
    "    \n",
    "    init_state(a=a,k0=k0,x0=x0)\n",
    "    rho0 = abs(psi)**2\n",
    "    fig1 = plt.figure()\n",
    "    plt.xlim(-L,L)\n",
    "    plt.ylim(-abs(U0)-k0**2-.5,.5+abs(U0)+k0**2)\n",
    "    plt.plot(xs,U(xs),ls=\"-.\")\n",
    "    density,= plt.plot(xs,rho0/max(rho0))\n",
    "\n",
    "    def update_graphic(t,density):\n",
    "        if progress is not None:\n",
    "            progress.value = t\n",
    "\n",
    "        for i in range(100):\n",
    "            evolve(psi,xs,U)\n",
    "        rho = abs(psi)**2\n",
    "        density.set_data(xs,50*(U0+.1)*rho+.5*k0**2)\n",
    "        return density,\n",
    "\n",
    "    line_ani = animation.FuncAnimation(fig1, update_graphic, ts, fargs=(density,),\n",
    "                                       interval=100, blit=True)\n",
    "\n",
    "    plt.close()\n",
    "    return HTML(line_ani.to_jshtml())\n",
    "    "
   ]
  },
  {
   "cell_type": "markdown",
   "metadata": {},
   "source": [
    "## Rutinas que conectan los controles de la primera celda con la simulacion"
   ]
  },
  {
   "cell_type": "code",
   "execution_count": 4,
   "metadata": {
    "ExecuteTime": {
     "end_time": "2020-08-12T17:55:51.360357Z",
     "start_time": "2020-08-12T17:55:51.315746Z"
    },
    "hide_input": false,
    "init_cell": true
   },
   "outputs": [],
   "source": [
    "def on_button_start_sim(b):\n",
    "    global U0, w, k0, a, x0, U\n",
    "    U0 = valueV0.value\n",
    "    w = valueW.value\n",
    "    k0 = valuek0.value\n",
    "    a = anchopaquete.value\n",
    "    x0 = centropaquete.value\n",
    "    if potencial.value == \"Gaussiano\":\n",
    "        U = Ugaussiano\n",
    "    elif potencial.value == \"Cuadrático\":\n",
    "        U = Uarmonico\n",
    "    elif potencial.value == \"Cuadrado\":\n",
    "        U = Uescalon\n",
    "    elif potencial.value == \"Rampa\":\n",
    "        U = Urampadoble\n",
    "    else:\n",
    "        print(\"No encontrado\")\n",
    "        return\n",
    "    \n",
    "    outwdt.clear_output()\n",
    "    progress = widgets.FloatProgress(value=0,min=0,max=50,step=1,description='Simulating:',\n",
    "    bar_style='info',orientation='horizontal')\n",
    "    \n",
    "    with outwdt:\n",
    "        print([a,x0,k0,U0,w])\n",
    "        display(progress)\n",
    "        result = make_animation_new(progress=progress)     \n",
    "        outwdt.clear_output()\n",
    "        display(result)\n",
    "        \n",
    "\n",
    "buttonrunsim.on_click(on_button_start_sim)\n",
    "    \n",
    "    "
   ]
  }
 ],
 "metadata": {
  "celltoolbar": "Initialization Cell",
  "kernelspec": {
   "display_name": "Python 3",
   "language": "python",
   "name": "python3"
  },
  "language_info": {
   "codemirror_mode": {
    "name": "ipython",
    "version": 3
   },
   "file_extension": ".py",
   "mimetype": "text/x-python",
   "name": "python",
   "nbconvert_exporter": "python",
   "pygments_lexer": "ipython3",
   "version": "3.7.6"
  },
  "latex_envs": {
   "LaTeX_envs_menu_present": true,
   "autoclose": false,
   "autocomplete": false,
   "bibliofile": "biblio.bib",
   "cite_by": "apalike",
   "current_citInitial": 1,
   "eqLabelWithNumbers": true,
   "eqNumInitial": 1,
   "hotkeys": {
    "equation": "Ctrl-E",
    "itemize": "Ctrl-I"
   },
   "labels_anchors": false,
   "latex_user_defs": false,
   "report_style_numbering": false,
   "user_envs_cfg": false
  },
  "toc": {
   "base_numbering": 1,
   "nav_menu": {},
   "number_sections": true,
   "sideBar": true,
   "skip_h1_title": false,
   "title_cell": "Table of Contents",
   "title_sidebar": "Contents",
   "toc_cell": false,
   "toc_position": {},
   "toc_section_display": true,
   "toc_window_display": false
  },
  "varInspector": {
   "cols": {
    "lenName": 16,
    "lenType": 16,
    "lenVar": 40
   },
   "kernels_config": {
    "python": {
     "delete_cmd_postfix": "",
     "delete_cmd_prefix": "del ",
     "library": "var_list.py",
     "varRefreshCmd": "print(var_dic_list())"
    },
    "r": {
     "delete_cmd_postfix": ") ",
     "delete_cmd_prefix": "rm(",
     "library": "var_list.r",
     "varRefreshCmd": "cat(var_dic_list()) "
    }
   },
   "types_to_exclude": [
    "module",
    "function",
    "builtin_function_or_method",
    "instance",
    "_Feature"
   ],
   "window_display": false
  }
 },
 "nbformat": 4,
 "nbformat_minor": 4
}
