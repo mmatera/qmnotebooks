{
 "cells": [
  {
   "cell_type": "markdown",
   "id": "brutal-marriage",
   "metadata": {},
   "source": [
    "# Qutip\n",
    "\n",
    "Qutip es una librería de Python que permite construir representaciones matriciales (tensoriales) de operadores en MC de forma eficiente y más o menos transparente. También permite resolver ecuaciones de evolución para sistemas abiertos, calcular valores medios y estimadores de correlaciones cuánticas.\n",
    "Acá van algunos ejemplos."
   ]
  },
  {
   "cell_type": "code",
   "execution_count": 10,
   "id": "supported-married",
   "metadata": {},
   "outputs": [],
   "source": [
    "%matplotlib inline\n",
    "\n",
    "import numpy as np\n",
    "import qutip \n",
    "import matplotlib.pyplot as plt"
   ]
  },
  {
   "cell_type": "code",
   "execution_count": 60,
   "id": "artistic-hayes",
   "metadata": {},
   "outputs": [],
   "source": [
    "### Estado de una base canónica en dimensión 3"
   ]
  },
  {
   "cell_type": "code",
   "execution_count": 61,
   "id": "decreased-heritage",
   "metadata": {},
   "outputs": [
    {
     "data": {
      "text/latex": [
       "Quantum object: dims = [[3], [1]], shape = (3, 1), type = ket\\begin{equation*}\\left(\\begin{array}{*{11}c}0.0\\\\0.0\\\\1.0\\\\\\end{array}\\right)\\end{equation*}"
      ],
      "text/plain": [
       "Quantum object: dims = [[3], [1]], shape = (3, 1), type = ket\n",
       "Qobj data =\n",
       "[[0.]\n",
       " [0.]\n",
       " [1.]]"
      ]
     },
     "execution_count": 61,
     "metadata": {},
     "output_type": "execute_result"
    }
   ],
   "source": [
    "\n",
    "qutip.basis(3,2)"
   ]
  },
  {
   "cell_type": "markdown",
   "id": "saved-motor",
   "metadata": {},
   "source": [
    "### Combinación lineal de estados de una base canónica"
   ]
  },
  {
   "cell_type": "code",
   "execution_count": 67,
   "id": "adjusted-participation",
   "metadata": {},
   "outputs": [
    {
     "data": {
      "text/latex": [
       "Quantum object: dims = [[3], [1]], shape = (3, 1), type = ket\\begin{equation*}\\left(\\begin{array}{*{11}c}0.0\\\\1.0j\\\\1.0\\\\\\end{array}\\right)\\end{equation*}"
      ],
      "text/plain": [
       "Quantum object: dims = [[3], [1]], shape = (3, 1), type = ket\n",
       "Qobj data =\n",
       "[[0.+0.j]\n",
       " [0.+1.j]\n",
       " [1.+0.j]]"
      ]
     },
     "execution_count": 67,
     "metadata": {},
     "output_type": "execute_result"
    }
   ],
   "source": [
    "psi=(qutip.basis(3,2)+1j * qutip.basis(3,1))\n",
    "psi"
   ]
  },
  {
   "cell_type": "code",
   "execution_count": 70,
   "id": "incredible-group",
   "metadata": {},
   "outputs": [],
   "source": [
    "### Normalizamos el estado que construimos"
   ]
  },
  {
   "cell_type": "code",
   "execution_count": 72,
   "id": "acquired-james",
   "metadata": {},
   "outputs": [
    {
     "data": {
      "text/latex": [
       "Quantum object: dims = [[3], [1]], shape = (3, 1), type = ket\\begin{equation*}\\left(\\begin{array}{*{11}c}0.0\\\\0.707j\\\\0.707\\\\\\end{array}\\right)\\end{equation*}"
      ],
      "text/plain": [
       "Quantum object: dims = [[3], [1]], shape = (3, 1), type = ket\n",
       "Qobj data =\n",
       "[[0.        +0.j        ]\n",
       " [0.        +0.70710678j]\n",
       " [0.70710678+0.j        ]]"
      ]
     },
     "execution_count": 72,
     "metadata": {},
     "output_type": "execute_result"
    }
   ],
   "source": [
    "psi = psi/ psi.norm()\n",
    "psi"
   ]
  },
  {
   "cell_type": "code",
   "execution_count": 78,
   "id": "prescribed-throat",
   "metadata": {},
   "outputs": [
    {
     "data": {
      "text/plain": [
       "(-0.5+0j)"
      ]
     },
     "execution_count": 78,
     "metadata": {},
     "output_type": "execute_result"
    }
   ],
   "source": [
    "###  Constrimos otro estado y calculamos el overlap\n",
    "\n",
    "chi = qutip.basis(3,0)-qutip.basis(3,2)\n",
    "chi = chi/chi.norm()\n",
    "\n",
    "psi.overlap(chi)\n"
   ]
  },
  {
   "cell_type": "code",
   "execution_count": 80,
   "id": "effective-florist",
   "metadata": {},
   "outputs": [
    {
     "data": {
      "text/latex": [
       "Quantum object: dims = [[1], [1]], shape = (1, 1), type = bra\\begin{equation*}\\left(\\begin{array}{*{11}c}-0.500\\\\\\end{array}\\right)\\end{equation*}"
      ],
      "text/plain": [
       "Quantum object: dims = [[1], [1]], shape = (1, 1), type = bra\n",
       "Qobj data =\n",
       "[[-0.5]]"
      ]
     },
     "execution_count": 80,
     "metadata": {},
     "output_type": "execute_result"
    }
   ],
   "source": [
    "# o\n",
    "ov=chi.dag()*psi\n",
    "ov"
   ]
  },
  {
   "cell_type": "markdown",
   "id": "round-utilization",
   "metadata": {},
   "source": [
    "notar que con overlap obtenemos un número complejo, y con el producto escalar un tensor 1-1. Para recuperar el número complejo, calculamos su traza:"
   ]
  },
  {
   "cell_type": "code",
   "execution_count": 82,
   "id": "italic-interference",
   "metadata": {},
   "outputs": [
    {
     "data": {
      "text/plain": [
       "-0.5"
      ]
     },
     "execution_count": 82,
     "metadata": {},
     "output_type": "execute_result"
    }
   ],
   "source": [
    "ov.tr()"
   ]
  },
  {
   "cell_type": "markdown",
   "id": "cooperative-accordance",
   "metadata": {},
   "source": [
    "### Matriz que representa la componente z de un espín con s=2:"
   ]
  },
  {
   "cell_type": "code",
   "execution_count": 32,
   "id": "spoken-glossary",
   "metadata": {},
   "outputs": [
    {
     "data": {
      "text/latex": [
       "Quantum object: dims = [[5], [5]], shape = (5, 5), type = oper, isherm = True\\begin{equation*}\\left(\\begin{array}{*{11}c}0.0 & 1.0 & 0.0 & 0.0 & 0.0\\\\1.0 & 0.0 & 1.225 & 0.0 & 0.0\\\\0.0 & 1.225 & 0.0 & 1.225 & 0.0\\\\0.0 & 0.0 & 1.225 & 0.0 & 1.0\\\\0.0 & 0.0 & 0.0 & 1.0 & 0.0\\\\\\end{array}\\right)\\end{equation*}"
      ],
      "text/plain": [
       "Quantum object: dims = [[5], [5]], shape = (5, 5), type = oper, isherm = True\n",
       "Qobj data =\n",
       "[[0.         1.         0.         0.         0.        ]\n",
       " [1.         0.         1.22474487 0.         0.        ]\n",
       " [0.         1.22474487 0.         1.22474487 0.        ]\n",
       " [0.         0.         1.22474487 0.         1.        ]\n",
       " [0.         0.         0.         1.         0.        ]]"
      ]
     },
     "execution_count": 32,
     "metadata": {},
     "output_type": "execute_result"
    }
   ],
   "source": [
    "qutip.jmat(2)[0]"
   ]
  },
  {
   "cell_type": "markdown",
   "id": "bright-trailer",
   "metadata": {},
   "source": [
    "### Operadores de subida\n"
   ]
  },
  {
   "cell_type": "code",
   "execution_count": 34,
   "id": "realistic-experience",
   "metadata": {},
   "outputs": [
    {
     "data": {
      "text/latex": [
       "Quantum object: dims = [[4], [4]], shape = (4, 4), type = oper, isherm = False\\begin{equation*}\\left(\\begin{array}{*{11}c}0.0 & 0.0 & 0.0 & 0.0\\\\1.0 & 0.0 & 0.0 & 0.0\\\\0.0 & 1.414 & 0.0 & 0.0\\\\0.0 & 0.0 & 1.732 & 0.0\\\\\\end{array}\\right)\\end{equation*}"
      ],
      "text/plain": [
       "Quantum object: dims = [[4], [4]], shape = (4, 4), type = oper, isherm = False\n",
       "Qobj data =\n",
       "[[0.         0.         0.         0.        ]\n",
       " [1.         0.         0.         0.        ]\n",
       " [0.         1.41421356 0.         0.        ]\n",
       " [0.         0.         1.73205081 0.        ]]"
      ]
     },
     "execution_count": 34,
     "metadata": {},
     "output_type": "execute_result"
    }
   ],
   "source": [
    "qutip.create(4)"
   ]
  },
  {
   "cell_type": "markdown",
   "id": "handled-jurisdiction",
   "metadata": {},
   "source": [
    "### $A^\\dagger - A =0$"
   ]
  },
  {
   "cell_type": "code",
   "execution_count": 49,
   "id": "pretty-convergence",
   "metadata": {},
   "outputs": [
    {
     "data": {
      "text/latex": [
       "Quantum object: dims = [[4], [4]], shape = (4, 4), type = oper, isherm = True\\begin{equation*}\\left(\\begin{array}{*{11}c}0.0 & 0.0 & 0.0 & 0.0\\\\0.0 & 0.0 & 0.0 & 0.0\\\\0.0 & 0.0 & 0.0 & 0.0\\\\0.0 & 0.0 & 0.0 & 0.0\\\\\\end{array}\\right)\\end{equation*}"
      ],
      "text/plain": [
       "Quantum object: dims = [[4], [4]], shape = (4, 4), type = oper, isherm = True\n",
       "Qobj data =\n",
       "[[0. 0. 0. 0.]\n",
       " [0. 0. 0. 0.]\n",
       " [0. 0. 0. 0.]\n",
       " [0. 0. 0. 0.]]"
      ]
     },
     "execution_count": 49,
     "metadata": {},
     "output_type": "execute_result"
    }
   ],
   "source": [
    "ad = qutip.create(4)\n",
    "\n",
    "ad.dag()  -qutip.destroy(4)"
   ]
  },
  {
   "cell_type": "markdown",
   "id": "positive-continent",
   "metadata": {},
   "source": [
    "### Conmutador de operadores de subida y bajada, proyectados a dimensión finita:"
   ]
  },
  {
   "cell_type": "code",
   "execution_count": 43,
   "id": "hairy-edmonton",
   "metadata": {},
   "outputs": [
    {
     "data": {
      "text/latex": [
       "Quantum object: dims = [[4], [4]], shape = (4, 4), type = oper, isherm = True\\begin{equation*}\\left(\\begin{array}{*{11}c}1.0 & 0.0 & 0.0 & 0.0\\\\0.0 & 1.0 & 0.0 & 0.0\\\\0.0 & 0.0 & 1.000 & 0.0\\\\0.0 & 0.0 & 0.0 & -3.000\\\\\\end{array}\\right)\\end{equation*}"
      ],
      "text/plain": [
       "Quantum object: dims = [[4], [4]], shape = (4, 4), type = oper, isherm = True\n",
       "Qobj data =\n",
       "[[ 1.  0.  0.  0.]\n",
       " [ 0.  1.  0.  0.]\n",
       " [ 0.  0.  1.  0.]\n",
       " [ 0.  0.  0. -3.]]"
      ]
     },
     "execution_count": 43,
     "metadata": {},
     "output_type": "execute_result"
    }
   ],
   "source": [
    "qutip.commutator(qutip.destroy(4),qutip.create(4))"
   ]
  },
  {
   "cell_type": "markdown",
   "id": "daily-internship",
   "metadata": {},
   "source": [
    "### Ejemplo de construccion de un Hamiltoniano, un estado, y encontramos un espectro."
   ]
  },
  {
   "cell_type": "code",
   "execution_count": 51,
   "id": "sophisticated-awareness",
   "metadata": {
    "scrolled": true
   },
   "outputs": [
    {
     "name": "stdout",
     "output_type": "stream",
     "text": [
      "El espectro de H es  [-1.  -0.2  0.2  1. ]\n"
     ]
    }
   ],
   "source": [
    "## Parámetros del Hamiltoniano\n",
    "\n",
    "J=1.\n",
    "b=.1\n",
    "## Hamiltoniano de dos cuerpos\n",
    "\n",
    "H= b*(qutip.tensor(qutip.sigmaz(),qutip.identity(2))+\n",
    "      qutip.tensor(qutip.identity(2),qutip.sigmaz())\n",
    "     ) + J*(\n",
    "    qutip.tensor(qutip.sigmap(),qutip.sigmam())+\n",
    "   qutip.tensor(qutip.sigmam(),qutip.sigmap()))\n",
    "\n",
    "print(\"El espectro de H es \", H.eigenenergies())\n",
    "\n"
   ]
  },
  {
   "cell_type": "markdown",
   "id": "psychological-fiber",
   "metadata": {},
   "source": [
    "### Construimos un estado inicial, y lo hacemos evolucionar con H. Finalmente graficamos la entropía en los subsistemas"
   ]
  },
  {
   "cell_type": "code",
   "execution_count": 54,
   "id": "internal-imperial",
   "metadata": {},
   "outputs": [
    {
     "data": {
      "text/plain": [
       "<matplotlib.legend.Legend at 0x7fb0fd4dfb50>"
      ]
     },
     "execution_count": 54,
     "metadata": {},
     "output_type": "execute_result"
    },
    {
     "data": {
      "image/png": "[encoded data removed]",
      "text/plain": [
       "<Figure size 432x288 with 1 Axes>"
      ]
     },
     "metadata": {
      "needs_background": "light"
     },
     "output_type": "display_data"
    }
   ],
   "source": [
    "rho0 = qutip.tensor(qutip.projection(2,1,1),.5*qutip.identity(2))\n",
    "\n",
    "# Evolución de rho0 con H\n",
    "ts=np.linspace(0,10,100)\n",
    "res=qutip.mesolve(H, rho0, ts)\n",
    "\n",
    "\n",
    "plt.title(\"Entropía de von Neumann para los estados reducidos como función de t\")\n",
    "plt.plot(ts,[qutip.entropy_vn(rho.ptrace([0]))  for rho in res.states], label=\"primer spin\")\n",
    "plt.plot(ts,[qutip.entropy_vn(rho.ptrace([1]))  for rho in res.states],label=\"segundo espin\")\n",
    "plt.plot(ts,[qutip.entropy_vn(rho.ptrace([0]))+qutip.entropy_vn(rho.ptrace([1]))  for rho in res.states],label=\"suma de entropías\")\n",
    "plt.legend()"
   ]
  },
  {
   "cell_type": "markdown",
   "id": "parliamentary-parallel",
   "metadata": {},
   "source": [
    "### Evolución con decoherencia vía dínamica de Lindblad\n",
    "\n",
    "Aquí hacemos lo mismo que antes, pero introducimos un operador de colapso:\n",
    "\n",
    "$$\n",
    "{\\bf i}\\frac{d\\rho}{dt}=[{\\bf H},\\rho] \n",
    "+ {\\bf i}\\sum_i ({\\bf C}_i \\rho {\\bf C}_i^\\dagger-\\frac{\\{\\rho,{\\bf C}_i^\\dagger {\\bf C}_i  \\}}{2})\n",
    "$$\n",
    "En el ejemplo, ${\\bf C}_i={\\bf C}_1 = .2(\\sigma_z^{(1)}+\\sigma_z^{(2)})$\n",
    "\n",
    "Los detalles están en el help:\n",
    "\n",
    "[http://qutip.org/docs/3.1.0/guide/dynamics/dynamics-master.html](http://qutip.org/docs/3.1.0/guide/dynamics/dynamics-master.html)"
   ]
  },
  {
   "cell_type": "code",
   "execution_count": 57,
   "id": "sharing-hypothesis",
   "metadata": {},
   "outputs": [
    {
     "data": {
      "text/plain": [
       "[<matplotlib.lines.Line2D at 0x7fb0fed057f0>]"
      ]
     },
     "execution_count": 57,
     "metadata": {},
     "output_type": "execute_result"
    },
    {
     "data": {
      "image/png": "[encoded data removed]",
      "text/plain": [
       "<Figure size 432x288 with 1 Axes>"
      ]
     },
     "metadata": {
      "needs_background": "light"
     },
     "output_type": "display_data"
    }
   ],
   "source": [
    "rho0 = qutip.tensor(qutip.projection(2,1,1),.5*qutip.identity(2))\n",
    "\n",
    "# Evolución de rho0 con H\n",
    "ts=np.linspace(0,10,100)\n",
    "collapseops = [.3*qutip.tensor(qutip.identity(2),qutip.sigmaz()),\n",
    "               .3*qutip.tensor(qutip.sigmaz(),qutip.identity(2))]\n",
    "\n",
    "res=qutip.mesolve(H, rho0, ts, collapseops)\n",
    "\n",
    "\n",
    "plt.title(\"Entropía de von neumann para los estados reducidos como función de t\")\n",
    "plt.plot(ts,[qutip.entropy_vn(rho.ptrace([0]))  for rho in res.states], label=\"primer spin\")\n",
    "plt.plot(ts,[qutip.entropy_vn(rho.ptrace([1]))  for rho in res.states],label=\"segundo espin\")"
   ]
  },
  {
   "cell_type": "markdown",
   "id": "interesting-movie",
   "metadata": {},
   "source": [
    "### Hamiltoniano de más de dos partículas\n",
    "\n",
    "Acá va un ejemplo de como podés construir un Hamiltoniano con interacciones de pares\n",
    "$$\n",
    "{\\bf H}=J\\sum_i (\\sigma_{x, i}\\sigma_{x, i+1 mod N}+\\sigma_{y, i}\\sigma_{y, i+1 mod N})\n",
    "$$"
   ]
  },
  {
   "cell_type": "code",
   "execution_count": 86,
   "id": "mathematical-soldier",
   "metadata": {},
   "outputs": [
    {
     "data": {
      "text/plain": [
       "[<matplotlib.lines.Line2D at 0x7fb0fbe88280>]"
      ]
     },
     "execution_count": 86,
     "metadata": {},
     "output_type": "execute_result"
    },
    {
     "data": {
      "image/png": "[encoded data removed]",
      "text/plain": [
       "<Figure size 432x288 with 1 Axes>"
      ]
     },
     "metadata": {
      "needs_background": "light"
     },
     "output_type": "display_data"
    }
   ],
   "source": [
    "n = 5\n",
    "idop = qutip.identity(2)\n",
    "pairintxx = qutip.tensor(qutip.sigmax(),qutip.sigmax())\n",
    "pairintyy = qutip.tensor(qutip.sigmay(),qutip.sigmay())\n",
    "\n",
    "Vxx = (sum([\n",
    "    qutip.tensor([idop for i in range(j) ]+[pairintxx]+ [idop for i in range(n-j-2)])\n",
    "                 for j in range(n-2)]) + \n",
    "qutip.tensor([qutip.sigmax()]+[idop for i in range(n-2)]+[qutip.sigmax()]))\n",
    "\n",
    "\n",
    "Vyy = (sum([\n",
    "    qutip.tensor([idop for i in range(j) ]+[pairintyy]+ [idop for i in range(n-j-2)])\n",
    "                 for j in range(n-2)]) + \n",
    "qutip.tensor([qutip.sigmay()]+[idop for i in range(n-2)]+[qutip.sigmay()]))\n",
    "\n",
    "\n",
    "H = Vxx+Vyy\n",
    "\n",
    "plt.title(\"Espectro\")\n",
    "plt.plot(H.eigenenergies())"
   ]
  },
  {
   "cell_type": "markdown",
   "id": "twenty-benchmark",
   "metadata": {},
   "source": [
    "### Aquí armamos el estado térmico asociado a este H"
   ]
  },
  {
   "cell_type": "code",
   "execution_count": 97,
   "id": "bibliographic-guyana",
   "metadata": {},
   "outputs": [
    {
     "data": {
      "text/plain": [
       "[<matplotlib.lines.Line2D at 0x7fb0fc848430>]"
      ]
     },
     "execution_count": 97,
     "metadata": {},
     "output_type": "execute_result"
    },
    {
     "data": {
      "image/png": "[encoded data removed]",
      "text/plain": [
       "<Figure size 432x288 with 1 Axes>"
      ]
     },
     "metadata": {
      "needs_background": "light"
     },
     "output_type": "display_data"
    }
   ],
   "source": [
    "T=3.\n",
    "rho=(-H/T).expm()\n",
    "rho = rho/rho.tr()\n",
    "\n",
    "\n",
    "plt.title(\"Distribución de probabilidad para los estados\")\n",
    "plt.plot(rho.eigenenergies())"
   ]
  },
  {
   "cell_type": "code",
   "execution_count": null,
   "id": "presidential-philip",
   "metadata": {},
   "outputs": [],
   "source": []
  }
 ],
 "metadata": {
  "kernelspec": {
   "display_name": "Python 3",
   "language": "python",
   "name": "python3"
  },
  "language_info": {
   "codemirror_mode": {
    "name": "ipython",
    "version": 3
   },
   "file_extension": ".py",
   "mimetype": "text/x-python",
   "name": "python",
   "nbconvert_exporter": "python",
   "pygments_lexer": "ipython3",
   "version": "3.9.1"
  }
 },
 "nbformat": 4,
 "nbformat_minor": 5
}
